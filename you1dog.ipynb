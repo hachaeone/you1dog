{
 "cells": [
  {
   "cell_type": "code",
   "execution_count": 22,
   "id": "ffa63b7f",
   "metadata": {},
   "outputs": [],
   "source": [
    "import pandas as pd\n",
    "import numpy as np"
   ]
  },
  {
   "cell_type": "code",
   "execution_count": 23,
   "id": "d0a65e60",
   "metadata": {},
   "outputs": [
    {
     "data": {
      "text/html": [
       "<div>\n",
       "<style scoped>\n",
       "    .dataframe tbody tr th:only-of-type {\n",
       "        vertical-align: middle;\n",
       "    }\n",
       "\n",
       "    .dataframe tbody tr th {\n",
       "        vertical-align: top;\n",
       "    }\n",
       "\n",
       "    .dataframe thead th {\n",
       "        text-align: right;\n",
       "    }\n",
       "</style>\n",
       "<table border=\"1\" class=\"dataframe\">\n",
       "  <thead>\n",
       "    <tr style=\"text-align: right;\">\n",
       "      <th></th>\n",
       "      <th>연령</th>\n",
       "      <th>관심도</th>\n",
       "    </tr>\n",
       "  </thead>\n",
       "  <tbody>\n",
       "    <tr>\n",
       "      <th>count</th>\n",
       "      <td>127.000000</td>\n",
       "      <td>127.000000</td>\n",
       "    </tr>\n",
       "    <tr>\n",
       "      <th>mean</th>\n",
       "      <td>27.952756</td>\n",
       "      <td>4.370079</td>\n",
       "    </tr>\n",
       "    <tr>\n",
       "      <th>std</th>\n",
       "      <td>8.483278</td>\n",
       "      <td>0.774629</td>\n",
       "    </tr>\n",
       "    <tr>\n",
       "      <th>min</th>\n",
       "      <td>10.000000</td>\n",
       "      <td>2.000000</td>\n",
       "    </tr>\n",
       "    <tr>\n",
       "      <th>25%</th>\n",
       "      <td>20.000000</td>\n",
       "      <td>4.000000</td>\n",
       "    </tr>\n",
       "    <tr>\n",
       "      <th>50%</th>\n",
       "      <td>30.000000</td>\n",
       "      <td>5.000000</td>\n",
       "    </tr>\n",
       "    <tr>\n",
       "      <th>75%</th>\n",
       "      <td>30.000000</td>\n",
       "      <td>5.000000</td>\n",
       "    </tr>\n",
       "    <tr>\n",
       "      <th>max</th>\n",
       "      <td>50.000000</td>\n",
       "      <td>5.000000</td>\n",
       "    </tr>\n",
       "  </tbody>\n",
       "</table>\n",
       "</div>"
      ],
      "text/plain": [
       "               연령         관심도\n",
       "count  127.000000  127.000000\n",
       "mean    27.952756    4.370079\n",
       "std      8.483278    0.774629\n",
       "min     10.000000    2.000000\n",
       "25%     20.000000    4.000000\n",
       "50%     30.000000    5.000000\n",
       "75%     30.000000    5.000000\n",
       "max     50.000000    5.000000"
      ]
     },
     "execution_count": 23,
     "metadata": {},
     "output_type": "execute_result"
    }
   ],
   "source": [
    "you1dog=pd.read_excel('이슈설문지응답.xlsx')\n",
    "you1dog.describe()"
   ]
  },
  {
   "cell_type": "code",
   "execution_count": 24,
   "id": "bc451207",
   "metadata": {},
   "outputs": [],
   "source": [
    "you1dog['연령']=pd.Categorical(you1dog['연령'])\n",
    "you1dog['관심도']=pd.Categorical(you1dog['관심도'])\n",
    "\n",
    "you1dog['성별']=pd.Categorical(you1dog['성별'])\n",
    "you1dog['6. 아이와의 본격적인 반려 생활 시작 전, 임시 보호를 통해 가능 여부를 확인하는 것에 찬성하시나요?']=pd.Categorical(you1dog['6. 아이와의 본격적인 반려 생활 시작 전, 임시 보호를 통해 가능 여부를 확인하는 것에 찬성하시나요?'])"
   ]
  },
  {
   "cell_type": "code",
   "execution_count": 26,
   "id": "c5f96c05",
   "metadata": {},
   "outputs": [],
   "source": [
    "breed_type=['예비보호자','입양자','임시보호자','수분양자','무관']"
   ]
  }
 ],
 "metadata": {
  "kernelspec": {
   "display_name": "Python 3",
   "language": "python",
   "name": "python3"
  },
  "language_info": {
   "codemirror_mode": {
    "name": "ipython",
    "version": 3
   },
   "file_extension": ".py",
   "mimetype": "text/x-python",
   "name": "python",
   "nbconvert_exporter": "python",
   "pygments_lexer": "ipython3",
   "version": "3.12.1"
  }
 },
 "nbformat": 4,
 "nbformat_minor": 5
}
