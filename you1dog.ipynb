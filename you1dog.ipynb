{
 "cells": [
  {
   "cell_type": "code",
   "execution_count": 139,
   "id": "ffa63b7f",
   "metadata": {},
   "outputs": [],
   "source": [
    "import pandas as pd\n",
    "import numpy as np\n",
    "import matplotlib.pyplot as plt\n",
    "import seaborn as sns\n",
    "sns.set(font=\"Malgun Gothic\", rc={\"axes.unicode_minus\":False}, style='white')\n",
    "\n",
    "import matplotlib.font_manager as fm"
   ]
  },
  {
   "cell_type": "code",
   "execution_count": 124,
   "id": "d0a65e60",
   "metadata": {},
   "outputs": [],
   "source": [
    "you1dog=pd.read_excel('이슈설문지응답.xlsx')"
   ]
  },
  {
   "cell_type": "code",
   "execution_count": 126,
   "id": "e3153a55",
   "metadata": {},
   "outputs": [],
   "source": [
    "respondent_type=you1dog['유형'] \n",
    "resp_count=[]\n",
    "\n",
    "for i in range(len(respondent_type)):\n",
    "    resp_count.append(len(respondent_type[i]))\n",
    "\n",
    "you1dog['유형_v2']=resp_count"
   ]
  },
  {
   "cell_type": "code",
   "execution_count": 127,
   "id": "339ac0a3",
   "metadata": {},
   "outputs": [],
   "source": [
    "gender=you1dog['성별']\n",
    "gender_num=[]\n",
    "\n",
    "for i in range(len(gender)):\n",
    "    if gender[i] == '여성':\n",
    "        gender_num.append(1)\n",
    "    else:\n",
    "        gender_num.append(0)\n",
    "        \n",
    "you1dog['성별_v2']=gender_num"
   ]
  },
  {
   "cell_type": "code",
   "execution_count": 141,
   "id": "03546936",
   "metadata": {},
   "outputs": [],
   "source": [
    "df2=you1dog.loc[:,['연령','유형_v2','성별_v2','관심도']]"
   ]
  },
  {
   "cell_type": "code",
   "execution_count": null,
   "id": "623ec9d4",
   "metadata": {},
   "outputs": [
    {
     "data": {
      "text/html": [
       "<div>\n",
       "<style scoped>\n",
       "    .dataframe tbody tr th:only-of-type {\n",
       "        vertical-align: middle;\n",
       "    }\n",
       "\n",
       "    .dataframe tbody tr th {\n",
       "        vertical-align: top;\n",
       "    }\n",
       "\n",
       "    .dataframe thead th {\n",
       "        text-align: right;\n",
       "    }\n",
       "</style>\n",
       "<table border=\"1\" class=\"dataframe\">\n",
       "  <thead>\n",
       "    <tr style=\"text-align: right;\">\n",
       "      <th></th>\n",
       "      <th>연령</th>\n",
       "      <th>유형_v2</th>\n",
       "      <th>성별_v2</th>\n",
       "      <th>관심도</th>\n",
       "    </tr>\n",
       "  </thead>\n",
       "  <tbody>\n",
       "    <tr>\n",
       "      <th>count</th>\n",
       "      <td>108.000000</td>\n",
       "      <td>108.000000</td>\n",
       "      <td>108.000000</td>\n",
       "      <td>108.000000</td>\n",
       "    </tr>\n",
       "    <tr>\n",
       "      <th>mean</th>\n",
       "      <td>27.870370</td>\n",
       "      <td>44.388889</td>\n",
       "      <td>0.888889</td>\n",
       "      <td>4.629630</td>\n",
       "    </tr>\n",
       "    <tr>\n",
       "      <th>std</th>\n",
       "      <td>8.321903</td>\n",
       "      <td>15.814836</td>\n",
       "      <td>0.315735</td>\n",
       "      <td>0.485155</td>\n",
       "    </tr>\n",
       "    <tr>\n",
       "      <th>min</th>\n",
       "      <td>10.000000</td>\n",
       "      <td>36.000000</td>\n",
       "      <td>0.000000</td>\n",
       "      <td>4.000000</td>\n",
       "    </tr>\n",
       "    <tr>\n",
       "      <th>25%</th>\n",
       "      <td>20.000000</td>\n",
       "      <td>36.000000</td>\n",
       "      <td>1.000000</td>\n",
       "      <td>4.000000</td>\n",
       "    </tr>\n",
       "    <tr>\n",
       "      <th>50%</th>\n",
       "      <td>30.000000</td>\n",
       "      <td>37.000000</td>\n",
       "      <td>1.000000</td>\n",
       "      <td>5.000000</td>\n",
       "    </tr>\n",
       "    <tr>\n",
       "      <th>75%</th>\n",
       "      <td>30.000000</td>\n",
       "      <td>43.000000</td>\n",
       "      <td>1.000000</td>\n",
       "      <td>5.000000</td>\n",
       "    </tr>\n",
       "    <tr>\n",
       "      <th>max</th>\n",
       "      <td>50.000000</td>\n",
       "      <td>114.000000</td>\n",
       "      <td>1.000000</td>\n",
       "      <td>5.000000</td>\n",
       "    </tr>\n",
       "  </tbody>\n",
       "</table>\n",
       "</div>"
      ],
      "text/plain": [
       "               연령       유형_v2       성별_v2         관심도\n",
       "count  108.000000  108.000000  108.000000  108.000000\n",
       "mean    27.870370   44.388889    0.888889    4.629630\n",
       "std      8.321903   15.814836    0.315735    0.485155\n",
       "min     10.000000   36.000000    0.000000    4.000000\n",
       "25%     20.000000   36.000000    1.000000    4.000000\n",
       "50%     30.000000   37.000000    1.000000    5.000000\n",
       "75%     30.000000   43.000000    1.000000    5.000000\n",
       "max     50.000000  114.000000    1.000000    5.000000"
      ]
     },
     "execution_count": 154,
     "metadata": {},
     "output_type": "execute_result"
    }
   ],
   "source": [
    "df3=df2.loc[df2['관심도']>=4]\n",
    "df3=df3.sort_values(by='관심도', ascending=False)\n",
    "df3.describe()\n",
    "\n",
    "#나이: 20대 후반~30대\n",
    "#성별: 여자"
   ]
  },
  {
   "cell_type": "code",
   "execution_count": null,
   "id": "b4cb8a18",
   "metadata": {},
   "outputs": [],
   "source": [
    "resp_type_df=respondent_type.value_counts().to_frame().reset_index()"
   ]
  },
  {
   "cell_type": "code",
   "execution_count": 168,
   "id": "6460a6f8",
   "metadata": {},
   "outputs": [],
   "source": [
    "type_count=[]\n",
    "\n",
    "for i in range(len(resp_type_df)):\n",
    "    type_count.append(len(resp_type_df['유형'][i]))\n",
    "\n",
    "resp_type_df['유형별 글자수']=type_count"
   ]
  },
  {
   "cell_type": "code",
   "execution_count": 169,
   "id": "153aa87a",
   "metadata": {},
   "outputs": [
    {
     "data": {
      "text/html": [
       "<div>\n",
       "<style scoped>\n",
       "    .dataframe tbody tr th:only-of-type {\n",
       "        vertical-align: middle;\n",
       "    }\n",
       "\n",
       "    .dataframe tbody tr th {\n",
       "        vertical-align: top;\n",
       "    }\n",
       "\n",
       "    .dataframe thead th {\n",
       "        text-align: right;\n",
       "    }\n",
       "</style>\n",
       "<table border=\"1\" class=\"dataframe\">\n",
       "  <thead>\n",
       "    <tr style=\"text-align: right;\">\n",
       "      <th></th>\n",
       "      <th>유형</th>\n",
       "      <th>count</th>\n",
       "      <th>유형별 글자수</th>\n",
       "    </tr>\n",
       "  </thead>\n",
       "  <tbody>\n",
       "    <tr>\n",
       "      <th>0</th>\n",
       "      <td>나는 현재 아이를 입양해 기르고 있거나, 길렀던 경험이 있다.</td>\n",
       "      <td>41</td>\n",
       "      <td>36</td>\n",
       "    </tr>\n",
       "    <tr>\n",
       "      <th>1</th>\n",
       "      <td>나는 아직까지는 경험이 없지만, 향후에 반려 생활을 기하거나 계획하고 있다.</td>\n",
       "      <td>39</td>\n",
       "      <td>43</td>\n",
       "    </tr>\n",
       "    <tr>\n",
       "      <th>2</th>\n",
       "      <td>나는 현재 아이를 분양해 기르고 있거나, 길렀던 경험이 있다.</td>\n",
       "      <td>12</td>\n",
       "      <td>37</td>\n",
       "    </tr>\n",
       "    <tr>\n",
       "      <th>3</th>\n",
       "      <td>나는 현재 아이를 구매해 기르고 있거나, 길렀던 경험이 있다.</td>\n",
       "      <td>11</td>\n",
       "      <td>37</td>\n",
       "    </tr>\n",
       "    <tr>\n",
       "      <th>4</th>\n",
       "      <td>나는 아이와 관련한 직접적인 경험이 없고, 앞으로도 계획이 없다.</td>\n",
       "      <td>8</td>\n",
       "      <td>38</td>\n",
       "    </tr>\n",
       "    <tr>\n",
       "      <th>5</th>\n",
       "      <td>나는 현재 아이를 입양해 기르고 있거나, 길렀던 경험이 있다.  , 나는 현재 아이...</td>\n",
       "      <td>5</td>\n",
       "      <td>75</td>\n",
       "    </tr>\n",
       "    <tr>\n",
       "      <th>6</th>\n",
       "      <td>나는 현재 아이를 입양해 기르고 있거나, 길렀던 경험이 있다.  , 나는 현재 아이...</td>\n",
       "      <td>2</td>\n",
       "      <td>114</td>\n",
       "    </tr>\n",
       "    <tr>\n",
       "      <th>7</th>\n",
       "      <td>나는 현재 아이를 임시 보호 중이거나, 임시 보호 경험이 있다.</td>\n",
       "      <td>2</td>\n",
       "      <td>37</td>\n",
       "    </tr>\n",
       "    <tr>\n",
       "      <th>8</th>\n",
       "      <td>나는 아직까지는 경험이 없지만, 향후에 반려 생활을 기하거나 계획하고 있다. , 나...</td>\n",
       "      <td>2</td>\n",
       "      <td>82</td>\n",
       "    </tr>\n",
       "    <tr>\n",
       "      <th>9</th>\n",
       "      <td>나는 아직까지는 경험이 없지만, 향후에 반려 생활을 기하거나 계획하고 있다. , 나...</td>\n",
       "      <td>2</td>\n",
       "      <td>83</td>\n",
       "    </tr>\n",
       "    <tr>\n",
       "      <th>10</th>\n",
       "      <td>나는 현재 아이를 입양해 기르고 있거나, 길렀던 경험이 있다.  , 나는 현재 아이...</td>\n",
       "      <td>1</td>\n",
       "      <td>75</td>\n",
       "    </tr>\n",
       "    <tr>\n",
       "      <th>11</th>\n",
       "      <td>나는 아직까지는 경험이 없지만, 향후에 반려 생활을 기하거나 계획하고 있다. , 나...</td>\n",
       "      <td>1</td>\n",
       "      <td>82</td>\n",
       "    </tr>\n",
       "    <tr>\n",
       "      <th>12</th>\n",
       "      <td>나는 아직까지는 경험이 없지만, 향후에 반려 생활을 기하거나 계획하고 있다. , 나...</td>\n",
       "      <td>1</td>\n",
       "      <td>81</td>\n",
       "    </tr>\n",
       "  </tbody>\n",
       "</table>\n",
       "</div>"
      ],
      "text/plain": [
       "                                                   유형  count  유형별 글자수\n",
       "0                나는 현재 아이를 입양해 기르고 있거나, 길렀던 경험이 있다.       41       36\n",
       "1         나는 아직까지는 경험이 없지만, 향후에 반려 생활을 기하거나 계획하고 있다.      39       43\n",
       "2               나는 현재 아이를 분양해 기르고 있거나, 길렀던 경험이 있다.        12       37\n",
       "3               나는 현재 아이를 구매해 기르고 있거나, 길렀던 경험이 있다.        11       37\n",
       "4              나는 아이와 관련한 직접적인 경험이 없고, 앞으로도 계획이 없다.        8       38\n",
       "5   나는 현재 아이를 입양해 기르고 있거나, 길렀던 경험이 있다.  , 나는 현재 아이...      5       75\n",
       "6   나는 현재 아이를 입양해 기르고 있거나, 길렀던 경험이 있다.  , 나는 현재 아이...      2      114\n",
       "7               나는 현재 아이를 임시 보호 중이거나, 임시 보호 경험이 있다.        2       37\n",
       "8   나는 아직까지는 경험이 없지만, 향후에 반려 생활을 기하거나 계획하고 있다. , 나...      2       82\n",
       "9   나는 아직까지는 경험이 없지만, 향후에 반려 생활을 기하거나 계획하고 있다. , 나...      2       83\n",
       "10  나는 현재 아이를 입양해 기르고 있거나, 길렀던 경험이 있다.  , 나는 현재 아이...      1       75\n",
       "11  나는 아직까지는 경험이 없지만, 향후에 반려 생활을 기하거나 계획하고 있다. , 나...      1       82\n",
       "12  나는 아직까지는 경험이 없지만, 향후에 반려 생활을 기하거나 계획하고 있다. , 나...      1       81"
      ]
     },
     "execution_count": 169,
     "metadata": {},
     "output_type": "execute_result"
    }
   ],
   "source": [
    "resp_type_df"
   ]
  },
  {
   "cell_type": "code",
   "execution_count": null,
   "id": "37296d89",
   "metadata": {},
   "outputs": [
    {
     "data": {
      "image/png": "[encoded data removed]",
      "text/plain": [
       "<Figure size 640x480 with 1 Axes>"
      ]
     },
     "metadata": {},
     "output_type": "display_data"
    }
   ],
   "source": [
    "x=resp_type_df['유형별 글자수']\n",
    "y=resp_type_df['count']\n",
    "\n",
    "plt.scatter(x,y, s=100); #입양자 그리고 예비 입양자를 타겟으로 삼아야"
   ]
  },
  {
   "cell_type": "code",
   "execution_count": null,
   "id": "db38d61a",
   "metadata": {},
   "outputs": [],
   "source": [
    "#유형: 37~44자 → 대부분 한 가지 사례에 해당"
   ]
  }
 ],
 "metadata": {
  "kernelspec": {
   "display_name": "Python 3",
   "language": "python",
   "name": "python3"
  },
  "language_info": {
   "codemirror_mode": {
    "name": "ipython",
    "version": 3
   },
   "file_extension": ".py",
   "mimetype": "text/x-python",
   "name": "python",
   "nbconvert_exporter": "python",
   "pygments_lexer": "ipython3",
   "version": "3.12.1"
  }
 },
 "nbformat": 4,
 "nbformat_minor": 5
}
